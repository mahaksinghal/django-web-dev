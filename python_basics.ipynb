{
 "cells": [
  {
   "cell_type": "code",
   "execution_count": 2,
   "metadata": {},
   "outputs": [
    {
     "name": "stdout",
     "output_type": "stream",
     "text": [
      "the sum of a and is 33\n"
     ]
    }
   ],
   "source": [
    "def kuchbhi():\n",
    "    a=10\n",
    "    b=23\n",
    "    c=a+b\n",
    "    print(f'the sum of a and is {c}')\n",
    "\n",
    "kuchbhi()"
   ]
  },
  {
   "cell_type": "code",
   "execution_count": 5,
   "metadata": {},
   "outputs": [
    {
     "name": "stdout",
     "output_type": "stream",
     "text": [
      "Shakespeare lives in London\n"
     ]
    }
   ],
   "source": [
    "name = \"Shakespeare\"\n",
    "city = \"London\"\n",
    "print(f'{name} lives in {city}')"
   ]
  },
  {
   "cell_type": "markdown",
   "metadata": {},
   "source": [
    "django (jinja2) system\n",
    "```\n",
    "{% for var in sequence %}\n",
    "    <html code>\n",
    "    {{ var }}\n",
    "    <html code>\n",
    "{% endfor %}\n",
    "\n",
    "\n",
    "\n",
    "```\n"
   ]
  },
  {
   "cell_type": "code",
   "execution_count": null,
   "metadata": {},
   "outputs": [],
   "source": []
  }
 ],
 "metadata": {
  "kernelspec": {
   "display_name": "base",
   "language": "python",
   "name": "python3"
  },
  "language_info": {
   "codemirror_mode": {
    "name": "ipython",
    "version": 3
   },
   "file_extension": ".py",
   "mimetype": "text/x-python",
   "name": "python",
   "nbconvert_exporter": "python",
   "pygments_lexer": "ipython3",
   "version": "3.11.4"
  }
 },
 "nbformat": 4,
 "nbformat_minor": 2
}
