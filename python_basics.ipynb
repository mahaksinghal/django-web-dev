{
 "cells": [
  {
   "cell_type": "code",
   "execution_count": 2,
   "metadata": {},
   "outputs": [
    {
     "name": "stdout",
     "output_type": "stream",
     "text": [
      "the sum of a and is 33\n"
     ]
    }
   ],
   "source": [
    "def kuchbhi():\n",
    "    a=10\n",
    "    b=23\n",
    "    c=a+b\n",
    "    print(f'the sum of a and is {c}')\n",
    "\n",
    "kuchbhi()"
   ]
  },
  {
   "cell_type": "code",
   "execution_count": 5,
   "metadata": {},
   "outputs": [
    {
     "name": "stdout",
     "output_type": "stream",
     "text": [
      "Shakespeare lives in London\n"
     ]
    }
   ],
   "source": [
    "name = \"Shakespeare\"\n",
    "city = \"London\"\n",
    "print(f'{name} lives in {city}')"
   ]
  },
  {
   "cell_type": "markdown",
   "metadata": {},
   "source": [
    "django (jinja2) system\n",
    "```\n",
    "{% for var in sequence %}\n",
    "    <html code>\n",
    "    {{ var }}\n",
    "    <html code>\n",
    "{% endfor %}\n",
    "\n",
    "\n",
    "\n",
    "```\n"
   ]
  },
  {
   "cell_type": "markdown",
   "metadata": {},
   "source": [
    "dictionary"
   ]
  },
  {
   "cell_type": "code",
   "execution_count": 2,
   "metadata": {},
   "outputs": [],
   "source": [
    "product1 = {\n",
    "    'brand': 'apple',\n",
    "    'name': 'Iphone 16',\n",
    "    'price': 150000\n",
    "}"
   ]
  },
  {
   "cell_type": "code",
   "execution_count": 3,
   "metadata": {},
   "outputs": [
    {
     "name": "stdout",
     "output_type": "stream",
     "text": [
      "apple\n",
      "None\n",
      "not found\n",
      "150000\n"
     ]
    }
   ],
   "source": [
    "print(product1['brand'])\n",
    "print(product1.get('ram'))\n",
    "print(product1.get('ram', 'not found'))\n",
    "print(product1.get('price', 'not found'))"
   ]
  },
  {
   "cell_type": "code",
   "execution_count": 5,
   "metadata": {},
   "outputs": [
    {
     "name": "stdout",
     "output_type": "stream",
     "text": [
      "sabji ka kharcha 100 rupees\n",
      "dawai ka kharcha 200 rupees\n",
      "phal ka kharcha 50 rupees\n",
      "phone ke bill ka kharcha 500 rupees\n"
     ]
    }
   ],
   "source": [
    "kharche = {\n",
    "    'sabji': 100,\n",
    "    'dawai': 200,\n",
    "    'phal': 50,\n",
    "    'phone ke bill': 500,\n",
    "}\n",
    "for k,v in kharche.items():\n",
    "    print(f\"{k} ka kharcha {v} rupees\")"
   ]
  },
  {
   "cell_type": "markdown",
   "metadata": {},
   "source": [
    "functions"
   ]
  },
  {
   "cell_type": "code",
   "execution_count": 15,
   "metadata": {},
   "outputs": [],
   "source": [
    "# def abbr_generator(data):\n",
    "#     words = data.split(',')\n",
    "#     for word in words:\n",
    "#         clean_word = word.strip()\n",
    "#         print(clean_word)\n"
   ]
  },
  {
   "cell_type": "code",
   "execution_count": 18,
   "metadata": {},
   "outputs": [],
   "source": [
    "def abbr_generator(data):\n",
    "    words = data.split(',')\n",
    "    abbreviations = []\n",
    "    for word in words:\n",
    "        clean_word = word.strip()\n",
    "        abbr = ''\n",
    "        for item in clean_word.split():\n",
    "            abbr += item[0].upper()\n",
    "        abbreviations.append(abbr)\n",
    "    return abbreviations"
   ]
  },
  {
   "cell_type": "code",
   "execution_count": 21,
   "metadata": {},
   "outputs": [
    {
     "data": {
      "text/plain": [
       "['AN', 'BW', 'SJ', 'RDJ']"
      ]
     },
     "execution_count": 21,
     "metadata": {},
     "output_type": "execute_result"
    }
   ],
   "source": [
    "abbr_generator('Alex newman, Bruce wayne, Samuel Jackson, robert Downey Jr')"
   ]
  },
  {
   "cell_type": "code",
   "execution_count": 22,
   "metadata": {},
   "outputs": [],
   "source": [
    "def word_count(sentence):\n",
    "    words = sentence.split()\n",
    "    size = len(words)\n",
    "    return size"
   ]
  },
  {
   "cell_type": "code",
   "execution_count": 23,
   "metadata": {},
   "outputs": [
    {
     "data": {
      "text/plain": [
       "4"
      ]
     },
     "execution_count": 23,
     "metadata": {},
     "output_type": "execute_result"
    }
   ],
   "source": [
    "word_count(\"i want to sleep\")"
   ]
  },
  {
   "cell_type": "code",
   "execution_count": 24,
   "metadata": {},
   "outputs": [
    {
     "data": {
      "text/plain": [
       "25"
      ]
     },
     "execution_count": 24,
     "metadata": {},
     "output_type": "execute_result"
    }
   ],
   "source": [
    "word_count('Lorem ipsum dolor sit amet consectetur adipisicing elit. Quisquam, assumenda distinctio. Rerum, id velit ratione, veritatis voluptatum optio iusto enim fugiat minima aliquam a amet?')"
   ]
  },
  {
   "cell_type": "markdown",
   "metadata": {},
   "source": [
    "# class and objects"
   ]
  },
  {
   "cell_type": "code",
   "execution_count": null,
   "metadata": {},
   "outputs": [],
   "source": [
    "we "
   ]
  }
 ],
 "metadata": {
  "kernelspec": {
   "display_name": "base",
   "language": "python",
   "name": "python3"
  },
  "language_info": {
   "codemirror_mode": {
    "name": "ipython",
    "version": 3
   },
   "file_extension": ".py",
   "mimetype": "text/x-python",
   "name": "python",
   "nbconvert_exporter": "python",
   "pygments_lexer": "ipython3",
   "version": "3.11.4"
  }
 },
 "nbformat": 4,
 "nbformat_minor": 2
}
